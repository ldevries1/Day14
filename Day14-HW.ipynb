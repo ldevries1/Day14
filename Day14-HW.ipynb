{
 "cells": [
  {
   "cell_type": "markdown",
   "id": "6ce44393-3036-4c90-904f-1e85718f57fb",
   "metadata": {},
   "source": [
    "## Introduction to Data Science\n",
    "\n",
    "#### University of Redlands - DATA 101\n",
    "#### Prof: Joanna Bieri [joanna_bieri@redlands.edu](mailto:joanna_bieri@redlands.edu)\n",
    "#### [Class Website: data101.joannabieri.com](https://joannabieri.com/data101.html)\n",
    "\n",
    "---------------------------------------\n",
    "# Homework Day 14\n",
    "---------------------------------------\n",
    "\n",
    "GOALS:\n",
    "\n",
    "1. Reflect on Algorithmic bias\n",
    "2. Consider your role in Data Ethics\n",
    "3. Report on your reading.\n",
    "\n",
    "----------------------------------------------------------\n",
    "\n",
    "This homework has **3 questions** and **1 reading report**"
   ]
  },
  {
   "cell_type": "markdown",
   "id": "d0c422e3-32b1-452f-89a8-2586784d3957",
   "metadata": {},
   "source": [
    "## Important Information\n",
    "\n",
    "- Email: [joanna_bieri@redlands.edu](mailto:joanna_bieri@redlands.edu)\n",
    "- Office Hours: Duke 209 <a href=\"https://joannabieri.com/schedule.html\"> Click Here for Joanna's Schedule</a>\n",
    "\n",
    "## Day 14 Assignment - same drill.\n",
    "\n",
    "1. Make sure you can **Fork** and **Clone** the Day14 repo from [Redlands-DATA101](https://github.com/Redlands-DATA101)\n",
    "2. Open the file Day14-HW.ipynb and start doing the problems.\n",
    "    * You can do these problems as you follow along with the lecture notes and video.\n",
    "3. Get as far as you can before class.\n",
    "4. Submit what you have so far **Commit** and **Push** to Git.\n",
    "5. Take the daily check in quiz on **Canvas**.\n",
    "7. Come to class with lots of questions!\n",
    "\n",
    "## If you start having trouble with git!!!\n",
    "\n",
    "Some people have reported that GIT is disappearing or giving errors on when they try to use it in Jupyter Lab. Here is another option for interacting with git:\n",
    "\n",
    "[Git Desktop](https://github.com/apps/desktop)\n",
    "\n",
    "If yous start having errors, try downloading this app. I can show you how to use it in class."
   ]
  },
  {
   "cell_type": "markdown",
   "id": "15fd0fc5-0e82-4265-a328-e906366c4907",
   "metadata": {},
   "source": [
    "## Report on your Data Ethics reading:\n",
    "\n",
    "**Your answers should be written as neatly as possible in Markdown cells**\n",
    "\n",
    "Your homework for today is all essay and written work. Make sure you respond to the three questions in the lecture:\n",
    "\n",
    "**Q1** What is your response to our discussion of bias in algorithms? Talk about the pluses and minuses of using algorithms to make decisions in our human world.\n",
    "\n",
    "**Q2**\n",
    "How do you train yourself to make the right decisions (or reduce the likelihood of accidentally making the wrong decisions) at those points?\n",
    "\n",
    "**Q3**\n",
    "How do you respond when you see bias in someones work? How could you take action to educate others?\n",
    "\n",
    "\n",
    "**Reading Report**\n",
    "\n",
    "Write a report about what you learned from your ethics reading exploration. For each book/article you read:\n",
    "\n",
    "1. Include a full proper reference to the book/article.\n",
    "   * BOOK: Author last name, First name. Book Title: Subtitle. Edition, Publisher, Year.\n",
    "   * ONLINE ARTICLE: Author last name, First name. Article Title. Website name, date accessed. html link.\n",
    "   * [MLA styles for citing other types of online work](https://style.mla.org/works-cited/citations-by-format/online-works/?gad_source=1)\n",
    "2. Write a summary in your own words what the book/article was about. Imagine telling your classmates about what they would learn by reading the article.\n",
    "3. Discuss your own reaction to the book/article. Did it have any effect on how you think about data and ethics? Do you agree with the author? What specific ideas really stood out to you?"
   ]
  },
  {
   "cell_type": "markdown",
   "id": "bf53176f-7926-4d4e-967c-5b5bbd011abe",
   "metadata": {},
   "source": [
    "**Q1** A major benefit of utilizing algorithms to make decisions is the efficiency that is created. These algorithmns are much much faster than humans when it comes to generating data. This allows the human to analyze the data and draw conclusions, as opposed to spending a lot of time creating data. On the flip side, this can create some bias. Certain groups of people can be excluded, or misrepresented in an algorithm based data set. This is shown in the Amazon hiring scenario, where male candidates were preferred in the algorithm. "
   ]
  },
  {
   "cell_type": "markdown",
   "id": "6a527f22-684c-4aee-aa4d-afd435a9c996",
   "metadata": {},
   "source": [
    "**Q2** You can train yourself to make the right decisions when you have a view of all potential perspectives. When looking at data, consider it from both sides. Consider questions like \"what are the researchers trying to tell me within this data set?\" Another way you can make sure of your decisions is by removing all personal bias that you have towards a data set. At times, pieces of data can make people feel emotions, especially if there are connections to their personal lives. It is important to remove that bias. "
   ]
  },
  {
   "cell_type": "markdown",
   "id": "7335bfa0-82c0-46d7-9734-f4300dedfa54",
   "metadata": {},
   "source": [
    "**Q3** When seeing bias in a piece of work, it is important to take a look at which parts of the data are biased. Once we know which parts are biased, we can then think about what influences those biases have on the argument that is being made. Do they support the argument? Or do they go against the argument? You can take action by pointing out these biases to the researchers. At times, biases can be included unintentionally. Show the researchers what variables within the data could be added or removed in order to mitigate bias. "
   ]
  },
  {
   "cell_type": "markdown",
   "id": "9ca89bb8-e1ea-4af6-aea6-faf8874deaf2",
   "metadata": {},
   "source": [
    "### Article 1 "
   ]
  },
  {
   "cell_type": "markdown",
   "id": "1c06e022-a986-4610-8291-fc743389203a",
   "metadata": {},
   "source": [
    "#### Segalla, Michael, and Dominique Rouziès. “The Ethics of Managing People’s Data.” Harvard Business Review, July 2023, hbr.org/2023/07/the-ethics-of-managing-peoples-data.\n",
    "\n"
   ]
  },
  {
   "cell_type": "markdown",
   "id": "e72976bf-0603-49db-862e-cf2c4558e1b1",
   "metadata": {},
   "source": [
    "##### This article uses the \"Five Ps\" when it comes to handling data in an ethical manner. The first P is for provenance. This handles where data is coming from and whether it was legally and consentually obtained. The second P is for purpose. The author brings up the question of whether dark web data will stay within the parameters of how it was originally collected. The third P is for protection. The author discusses how long data is available, the ways in which it was protected and even destroyed. The fourth P is for privacy. The author talks about who has access to personally identifiable data as well as access to anonymous data. The fifth P is for preparation. This handles how data was cleaned up prior to presentation. It also considers the accuracy and biases within data sets. "
   ]
  },
  {
   "cell_type": "markdown",
   "id": "7e3f03e9-c848-4e14-9a06-323a27444f78",
   "metadata": {},
   "source": [
    "##### I thought this piece was extremely informative and well structured. The use of the \"Five Ps\" made the piece very easy to follow along with. It split up information very nicely. I agree with everything that the author said, as there is nothing that is too opinionated. There was one major quote that I found very interesting. The quote was \"too little anonymization is unacceptable under most government regulations. Too much may make the data useless for marketing\". What struck me here was the first sentence. I was not aware that there were certain government standards involved with too little anonymous data. I would think it is the other way around."
   ]
  },
  {
   "cell_type": "markdown",
   "id": "84df196c-0d0b-460e-b640-0bbc60814e36",
   "metadata": {},
   "source": [
    "#### Sandro Shubladze. “Council Post: Ethics in the Age of Data: Navigating the Crossroads of Privacy and Progress.” Forbes, 12 Aug. 2024, www.forbes.com/councils/forbestechcouncil/2023/11/17/ethics-in-the-age-of-data-navigating-the-crossroads-of-privacy-and-progress/."
   ]
  },
  {
   "cell_type": "markdown",
   "id": "65e1e4f1-da14-4973-9144-cb3e3bc2d8e4",
   "metadata": {},
   "source": [
    "##### This article considers how society can continue developing in AI, technology, data, etc while still keeping privacy as a major topic. The digital world evolves constantly and there is so much data out there to look into. The author understands this and proposes some guidelines to keep ethics straight within data practices. The author calls for things like secured informed consent, data security, neutral analysis, ethical data sharing, and user control. "
   ]
  },
  {
   "cell_type": "markdown",
   "id": "0a2414cf-bb01-4f5d-859b-7fe8e498c8c0",
   "metadata": {},
   "source": [
    "##### This article improved my knowledge of data and ethics. I really enjoyed reading the proposals that the author had. The one I liked the most was the committment to neutral analysis. I think it is vital that shared, public data removes bias. The researchers should state their methodologies in order to promote a transparent environment. I also really liked the main idea regarding progress. It feels like oftentimes people believe that the morality involved in data science can hold back a business from expanding. "
   ]
  },
  {
   "cell_type": "markdown",
   "id": "a9ec6d50-55ef-46cb-8d95-0d341305a981",
   "metadata": {},
   "source": [
    "#### “An Introduction to Data Ethics: What Is the Ethical Use of Data?” DataCamp, 22 July 2024, www.datacamp.com/blog/introduction-to-data-ethics."
   ]
  },
  {
   "cell_type": "markdown",
   "id": "a37d09a5-4f97-41a9-899c-6a61ce85b41c",
   "metadata": {},
   "source": [
    "##### This article was very forward. It gave a nice intro to data ethics and was a fairly easy read. The author talked about the purpose of considering the ethical side, while utilizing some examples of bias. One of these examples dealt with hiring algorithms at Amazon in 2017. Men were favored as candidates in the algorithm which raised a multitude of red flags for the ethical side of data. The author also stressed the importance of how businesses must consider data ethics and train their workers in it. I thought this was an important piece, as businesses may overlook this at times."
   ]
  },
  {
   "cell_type": "markdown",
   "id": "ab67994b-2a50-4866-adad-04d20bdbfa08",
   "metadata": {},
   "source": [
    "##### This article was a great introduction to data ethics and gave me some solid foundational pieces to digest. The part that I found most interesting was a visual that displayed the specific types of data that people give up when they go online. What was surprising to me was that the highest percentage outcome was from social network friends' list. 27% of people give up data through their friends lists on social media. I would have thought it would be web searches and browsing history. "
   ]
  },
  {
   "cell_type": "markdown",
   "id": "5b861907-6d96-4eb5-a5e7-4fbedc8a6f8a",
   "metadata": {},
   "source": [
    "#### Edquist, Alex, et al. “Data Ethics: What It Means and What It Takes.” Www.mckinsey.com, 23 Sept. 2022, www.mckinsey.com/capabilities/mckinsey-digital/our-insights/data-ethics-what-it-means-and-what-it-takes."
   ]
  },
  {
   "cell_type": "markdown",
   "id": "dbdffbce-8332-4a93-8403-0facb6e376f9",
   "metadata": {},
   "source": [
    "##### The authors dove into challenges that businesses face when considering data ethics. They mentionedthat many businesses push this away and do not understand the importance of it. For example, in a 2021 McKinsey survey \"only 27 percent of some 1000 respondents said that their data professionals actively check for skewed and biased data during data ingestion\". This stat clearly shows that businesses are shrugging the ethical aspects off and mainly concerned with maximizing profits. They do not want to hire people consider ethics nor do they want to take away time from tasks that could be generating profits. "
   ]
  },
  {
   "cell_type": "markdown",
   "id": "8ee2f954-7e9e-4971-8488-859b6b30d699",
   "metadata": {},
   "source": [
    "##### I thought this article brought some new perspectives that I had not really considered originally. In my head, I assumed that businesses were under certain regulations internally that handled data collection. I would assume that many companies have regulations, but are they very loose? Probably. I enjoyed the author's points throughout the text and think I got a lot out of this one. "
   ]
  },
  {
   "cell_type": "markdown",
   "id": "c6faae4b-ce39-4695-a87f-99e40bda1322",
   "metadata": {},
   "source": [
    "\n",
    "-------------------------------------------------------\n",
    "\n",
    "## Further watching\n",
    "\n",
    "If you have time, really explore the world of data ethics. You could watch some of the videos linked from class.\n",
    "\n",
    "### Weapons of Math Destruction | Cathy O'Neil | Talks at Google\n",
    "\n",
    "{{< video https://www.youtube.com/watch?v=TQHs8SA1qpk >}}\n",
    "\n",
    "### Imagining a Future Free from the Algorithms of Oppression | Safiya Noble | ACL 2019\n",
    "\n",
    "{{< video https://www.youtube.com/watch?v=tNi_U1Bb1S0 >}}\n",
    "\n",
    "### Whats An Algorithm Got To Do With It\n",
    "\n",
    "{{< video https://www.youtube.com/watch?v=5zxDwA99soA >}}"
   ]
  }
 ],
 "metadata": {
  "kernelspec": {
   "display_name": "Python 3 (ipykernel)",
   "language": "python",
   "name": "python3"
  },
  "language_info": {
   "codemirror_mode": {
    "name": "ipython",
    "version": 3
   },
   "file_extension": ".py",
   "mimetype": "text/x-python",
   "name": "python",
   "nbconvert_exporter": "python",
   "pygments_lexer": "ipython3",
   "version": "3.12.3"
  }
 },
 "nbformat": 4,
 "nbformat_minor": 5
}
